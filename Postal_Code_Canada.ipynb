{
  "nbformat": 4,
  "nbformat_minor": 0,
  "metadata": {
    "colab": {
      "name": "Postal Code Canada.ipynb",
      "provenance": []
    },
    "kernelspec": {
      "name": "python3",
      "display_name": "Python 3"
    }
  },
  "cells": [
    {
      "cell_type": "markdown",
      "metadata": {
        "id": "k0-epKerMIeW",
        "colab_type": "text"
      },
      "source": [
        "This Notebook was created by Ankur Dhuriya \\\n",
        "This notebook was used to create a Data Frame in Python from the data dowloaded from Wikipedia website \\\"https://en.wikipedia.org/wiki/List_of_postal_codes_of_Canada:_M\"\n"
      ]
    },
    {
      "cell_type": "code",
      "metadata": {
        "id": "5F2KJxBQMVi3",
        "colab_type": "code",
        "colab": {}
      },
      "source": [
        "import pandas as pd\n",
        "import numpy as np"
      ],
      "execution_count": 0,
      "outputs": []
    },
    {
      "cell_type": "code",
      "metadata": {
        "id": "p28qDgwYM2XX",
        "colab_type": "code",
        "colab": {
          "base_uri": "https://localhost:8080/",
          "height": 187
        },
        "outputId": "0cd25efb-4bde-42ec-9861-3546226e3027"
      },
      "source": [
        "from bs4 import BeautifulSoup as bs\n",
        "import requests\n",
        "url = \"https://en.wikipedia.org/wiki/List_of_postal_codes_of_Canada:_M\"\n",
        "\n",
        "text_result = requests.get(url).text #get the entire html of the article as a str\n",
        "html_parsed_result = bs(text_result, 'html.parser') #transform the text to html\n",
        "\n",
        "neightborhood_info_table = html_parsed_result.find('table', class_ = 'wikitable')\n",
        "neightborhood_rows = neightborhood_info_table.find_all('tr')\n",
        "\n",
        "# extract the info ('Postcode', 'Borough', 'Neighbourhood') from the table\n",
        "neightborhood_info = []\n",
        "for row in neightborhood_rows:\n",
        "    info = row.text.split('\\n')[1:-1] # remove empty str (first and last items)\n",
        "    neightborhood_info.append(info)\n",
        "    \n",
        "neightborhood_info[0:10]"
      ],
      "execution_count": 7,
      "outputs": [
        {
          "output_type": "execute_result",
          "data": {
            "text/plain": [
              "[['Postcode', 'Borough', 'Neighbourhood'],\n",
              " ['M1A', 'Not assigned', 'Not assigned'],\n",
              " ['M2A', 'Not assigned', 'Not assigned'],\n",
              " ['M3A', 'North York', 'Parkwoods'],\n",
              " ['M4A', 'North York', 'Victoria Village'],\n",
              " ['M5A', 'Downtown Toronto', 'Harbourfront'],\n",
              " ['M6A', 'North York', 'Lawrence Heights'],\n",
              " ['M6A', 'North York', 'Lawrence Manor'],\n",
              " ['M7A', \"Queen's Park\", 'Not assigned'],\n",
              " ['M8A', 'Not assigned', 'Not assigned']]"
            ]
          },
          "metadata": {
            "tags": []
          },
          "execution_count": 7
        }
      ]
    },
    {
      "cell_type": "code",
      "metadata": {
        "id": "0QjvWZ_UNg_i",
        "colab_type": "code",
        "colab": {
          "base_uri": "https://localhost:8080/",
          "height": 204
        },
        "outputId": "eded1b1a-4704-409d-d671-68db6d160aa3"
      },
      "source": [
        "#create a Neighborhoods dataframe\n",
        "neightborhood_info[0][-1] = 'Neighborhood' # change to american spelling\n",
        "neighborhood_df = pd.DataFrame(neightborhood_info[1:], columns=neightborhood_info[0])\n",
        "\n",
        "neighborhood_df.head()"
      ],
      "execution_count": 8,
      "outputs": [
        {
          "output_type": "execute_result",
          "data": {
            "text/html": [
              "<div>\n",
              "<style scoped>\n",
              "    .dataframe tbody tr th:only-of-type {\n",
              "        vertical-align: middle;\n",
              "    }\n",
              "\n",
              "    .dataframe tbody tr th {\n",
              "        vertical-align: top;\n",
              "    }\n",
              "\n",
              "    .dataframe thead th {\n",
              "        text-align: right;\n",
              "    }\n",
              "</style>\n",
              "<table border=\"1\" class=\"dataframe\">\n",
              "  <thead>\n",
              "    <tr style=\"text-align: right;\">\n",
              "      <th></th>\n",
              "      <th>Postcode</th>\n",
              "      <th>Borough</th>\n",
              "      <th>Neighborhood</th>\n",
              "    </tr>\n",
              "  </thead>\n",
              "  <tbody>\n",
              "    <tr>\n",
              "      <th>0</th>\n",
              "      <td>M1A</td>\n",
              "      <td>Not assigned</td>\n",
              "      <td>Not assigned</td>\n",
              "    </tr>\n",
              "    <tr>\n",
              "      <th>1</th>\n",
              "      <td>M2A</td>\n",
              "      <td>Not assigned</td>\n",
              "      <td>Not assigned</td>\n",
              "    </tr>\n",
              "    <tr>\n",
              "      <th>2</th>\n",
              "      <td>M3A</td>\n",
              "      <td>North York</td>\n",
              "      <td>Parkwoods</td>\n",
              "    </tr>\n",
              "    <tr>\n",
              "      <th>3</th>\n",
              "      <td>M4A</td>\n",
              "      <td>North York</td>\n",
              "      <td>Victoria Village</td>\n",
              "    </tr>\n",
              "    <tr>\n",
              "      <th>4</th>\n",
              "      <td>M5A</td>\n",
              "      <td>Downtown Toronto</td>\n",
              "      <td>Harbourfront</td>\n",
              "    </tr>\n",
              "  </tbody>\n",
              "</table>\n",
              "</div>"
            ],
            "text/plain": [
              "  Postcode           Borough      Neighborhood\n",
              "0      M1A      Not assigned      Not assigned\n",
              "1      M2A      Not assigned      Not assigned\n",
              "2      M3A        North York         Parkwoods\n",
              "3      M4A        North York  Victoria Village\n",
              "4      M5A  Downtown Toronto      Harbourfront"
            ]
          },
          "metadata": {
            "tags": []
          },
          "execution_count": 8
        }
      ]
    },
    {
      "cell_type": "code",
      "metadata": {
        "id": "W1F77J6aNjZZ",
        "colab_type": "code",
        "colab": {
          "base_uri": "https://localhost:8080/",
          "height": 187
        },
        "outputId": "0adfc776-e33f-4eb3-a697-604de7d37b4c"
      },
      "source": [
        "not_assigned_boroughs = neighborhood_df.index[neighborhood_df['Borough'] == 'Not assigned']\n",
        "not_assigned_neighborhoods = neighborhood_df.index[neighborhood_df['Neighborhood'] == 'Not assigned']\n",
        "not_assigned_neighborhoods_and_borough = not_assigned_boroughs & not_assigned_neighborhoods\n",
        "\n",
        "print('The DataFrame shape is {}'.format(neighborhood_df.shape),'\\n')\n",
        "print('There are:')\n",
        "print('  {} Postal codes'.format(neighborhood_df['Postcode'].unique().shape[0]))\n",
        "print('  {} Boroughs'.format(neighborhood_df['Borough'].unique().shape[0] - 1)) # substract one because \"not assigned\" doesn't count\n",
        "print('  {} Neighborhoods'.format(neighborhood_df['Neighborhood'].unique().shape[0] - 1)) # substract one because \"not assigned\" doesn't count\n",
        "print('  {} rows with Not assigned Borough'.format(not_assigned_boroughs.shape[0]))\n",
        "print('  {} rows with Not assigned Neighborhood'.format(not_assigned_neighborhoods.shape[0]))\n",
        "print('  {} rows with Not assigned Neighborhood and Borough'.format(not_assigned_neighborhoods_and_borough.shape[0]),'\\n')"
      ],
      "execution_count": 10,
      "outputs": [
        {
          "output_type": "stream",
          "text": [
            "The DataFrame shape is (287, 3) \n",
            "\n",
            "There are:\n",
            "  180 Postal codes\n",
            "  11 Boroughs\n",
            "  207 Neighborhoods\n",
            "  77 rows with Not assigned Borough\n",
            "  78 rows with Not assigned Neighborhood\n",
            "  77 rows with Not assigned Neighborhood and Borough \n",
            "\n"
          ],
          "name": "stdout"
        }
      ]
    },
    {
      "cell_type": "code",
      "metadata": {
        "id": "N7jFgccxNwTR",
        "colab_type": "code",
        "colab": {
          "base_uri": "https://localhost:8080/",
          "height": 204
        },
        "outputId": "8ed7f446-2c7e-4210-b8f8-28496350f990"
      },
      "source": [
        "neighborhood_df.drop(neighborhood_df.index[not_assigned_boroughs], inplace=True)\n",
        "neighborhood_df.reset_index(drop=True, inplace=True)\n",
        "\n",
        "neighborhood_df.head()"
      ],
      "execution_count": 11,
      "outputs": [
        {
          "output_type": "execute_result",
          "data": {
            "text/html": [
              "<div>\n",
              "<style scoped>\n",
              "    .dataframe tbody tr th:only-of-type {\n",
              "        vertical-align: middle;\n",
              "    }\n",
              "\n",
              "    .dataframe tbody tr th {\n",
              "        vertical-align: top;\n",
              "    }\n",
              "\n",
              "    .dataframe thead th {\n",
              "        text-align: right;\n",
              "    }\n",
              "</style>\n",
              "<table border=\"1\" class=\"dataframe\">\n",
              "  <thead>\n",
              "    <tr style=\"text-align: right;\">\n",
              "      <th></th>\n",
              "      <th>Postcode</th>\n",
              "      <th>Borough</th>\n",
              "      <th>Neighborhood</th>\n",
              "    </tr>\n",
              "  </thead>\n",
              "  <tbody>\n",
              "    <tr>\n",
              "      <th>0</th>\n",
              "      <td>M3A</td>\n",
              "      <td>North York</td>\n",
              "      <td>Parkwoods</td>\n",
              "    </tr>\n",
              "    <tr>\n",
              "      <th>1</th>\n",
              "      <td>M4A</td>\n",
              "      <td>North York</td>\n",
              "      <td>Victoria Village</td>\n",
              "    </tr>\n",
              "    <tr>\n",
              "      <th>2</th>\n",
              "      <td>M5A</td>\n",
              "      <td>Downtown Toronto</td>\n",
              "      <td>Harbourfront</td>\n",
              "    </tr>\n",
              "    <tr>\n",
              "      <th>3</th>\n",
              "      <td>M6A</td>\n",
              "      <td>North York</td>\n",
              "      <td>Lawrence Heights</td>\n",
              "    </tr>\n",
              "    <tr>\n",
              "      <th>4</th>\n",
              "      <td>M6A</td>\n",
              "      <td>North York</td>\n",
              "      <td>Lawrence Manor</td>\n",
              "    </tr>\n",
              "  </tbody>\n",
              "</table>\n",
              "</div>"
            ],
            "text/plain": [
              "  Postcode           Borough      Neighborhood\n",
              "0      M3A        North York         Parkwoods\n",
              "1      M4A        North York  Victoria Village\n",
              "2      M5A  Downtown Toronto      Harbourfront\n",
              "3      M6A        North York  Lawrence Heights\n",
              "4      M6A        North York    Lawrence Manor"
            ]
          },
          "metadata": {
            "tags": []
          },
          "execution_count": 11
        }
      ]
    },
    {
      "cell_type": "code",
      "metadata": {
        "id": "rb2zpCJwN1jG",
        "colab_type": "code",
        "colab": {
          "base_uri": "https://localhost:8080/",
          "height": 204
        },
        "outputId": "a4811165-e669-4d19-827f-9686bb76d0bd"
      },
      "source": [
        "not_assigned_neighborhoods = neighborhood_df.index[neighborhood_df['Neighborhood'] == 'Not assigned'] # run this again because the indexes on the dataframe where reset\n",
        "\n",
        "for idx in not_assigned_neighborhoods:\n",
        "    neighborhood_df['Neighborhood'][idx] = neighborhood_df['Borough'][idx]\n",
        "    \n",
        "neighborhood_df.head()"
      ],
      "execution_count": 12,
      "outputs": [
        {
          "output_type": "execute_result",
          "data": {
            "text/html": [
              "<div>\n",
              "<style scoped>\n",
              "    .dataframe tbody tr th:only-of-type {\n",
              "        vertical-align: middle;\n",
              "    }\n",
              "\n",
              "    .dataframe tbody tr th {\n",
              "        vertical-align: top;\n",
              "    }\n",
              "\n",
              "    .dataframe thead th {\n",
              "        text-align: right;\n",
              "    }\n",
              "</style>\n",
              "<table border=\"1\" class=\"dataframe\">\n",
              "  <thead>\n",
              "    <tr style=\"text-align: right;\">\n",
              "      <th></th>\n",
              "      <th>Postcode</th>\n",
              "      <th>Borough</th>\n",
              "      <th>Neighborhood</th>\n",
              "    </tr>\n",
              "  </thead>\n",
              "  <tbody>\n",
              "    <tr>\n",
              "      <th>0</th>\n",
              "      <td>M3A</td>\n",
              "      <td>North York</td>\n",
              "      <td>Parkwoods</td>\n",
              "    </tr>\n",
              "    <tr>\n",
              "      <th>1</th>\n",
              "      <td>M4A</td>\n",
              "      <td>North York</td>\n",
              "      <td>Victoria Village</td>\n",
              "    </tr>\n",
              "    <tr>\n",
              "      <th>2</th>\n",
              "      <td>M5A</td>\n",
              "      <td>Downtown Toronto</td>\n",
              "      <td>Harbourfront</td>\n",
              "    </tr>\n",
              "    <tr>\n",
              "      <th>3</th>\n",
              "      <td>M6A</td>\n",
              "      <td>North York</td>\n",
              "      <td>Lawrence Heights</td>\n",
              "    </tr>\n",
              "    <tr>\n",
              "      <th>4</th>\n",
              "      <td>M6A</td>\n",
              "      <td>North York</td>\n",
              "      <td>Lawrence Manor</td>\n",
              "    </tr>\n",
              "  </tbody>\n",
              "</table>\n",
              "</div>"
            ],
            "text/plain": [
              "  Postcode           Borough      Neighborhood\n",
              "0      M3A        North York         Parkwoods\n",
              "1      M4A        North York  Victoria Village\n",
              "2      M5A  Downtown Toronto      Harbourfront\n",
              "3      M6A        North York  Lawrence Heights\n",
              "4      M6A        North York    Lawrence Manor"
            ]
          },
          "metadata": {
            "tags": []
          },
          "execution_count": 12
        }
      ]
    },
    {
      "cell_type": "code",
      "metadata": {
        "id": "2WujKhaoN_X9",
        "colab_type": "code",
        "colab": {
          "base_uri": "https://localhost:8080/",
          "height": 119
        },
        "outputId": "af98e96a-810f-464d-b2ed-b23056798c7f"
      },
      "source": [
        "print('After cleaning the DataFrame, its new shape is {}'.format(neighborhood_df.shape),'\\n')\n",
        "print('There are:')\n",
        "print('  {} Postal codes'.format(neighborhood_df['Postcode'].unique().shape[0]))\n",
        "print('  {} Boroughs'.format(neighborhood_df['Borough'].unique().shape[0]))\n",
        "print('  {} Neighborhoods'.format(neighborhood_df['Neighborhood'].unique().shape[0]))"
      ],
      "execution_count": 13,
      "outputs": [
        {
          "output_type": "stream",
          "text": [
            "After cleaning the DataFrame, its new shape is (210, 3) \n",
            "\n",
            "There are:\n",
            "  103 Postal codes\n",
            "  11 Boroughs\n",
            "  207 Neighborhoods\n"
          ],
          "name": "stdout"
        }
      ]
    },
    {
      "cell_type": "code",
      "metadata": {
        "id": "VVd9lk5ZOBTr",
        "colab_type": "code",
        "colab": {
          "base_uri": "https://localhost:8080/",
          "height": 359
        },
        "outputId": "9eb25666-3995-430d-8b6d-74c5d776ca8a"
      },
      "source": [
        "group = neighborhood_df.groupby('Postcode')\n",
        "grouped_neighborhoods = group['Neighborhood'].apply(lambda x: \"%s\" % ', '.join(x))\n",
        "grouped_boroughs = group['Borough'].apply(lambda x: set(x).pop())\n",
        "grouped_df = pd.DataFrame(list(zip(grouped_boroughs.index, grouped_boroughs, grouped_neighborhoods)))\n",
        "grouped_df.columns = ['Postcode', 'Borough', 'Neighborhood']\n",
        "grouped_df.head(10)"
      ],
      "execution_count": 14,
      "outputs": [
        {
          "output_type": "execute_result",
          "data": {
            "text/html": [
              "<div>\n",
              "<style scoped>\n",
              "    .dataframe tbody tr th:only-of-type {\n",
              "        vertical-align: middle;\n",
              "    }\n",
              "\n",
              "    .dataframe tbody tr th {\n",
              "        vertical-align: top;\n",
              "    }\n",
              "\n",
              "    .dataframe thead th {\n",
              "        text-align: right;\n",
              "    }\n",
              "</style>\n",
              "<table border=\"1\" class=\"dataframe\">\n",
              "  <thead>\n",
              "    <tr style=\"text-align: right;\">\n",
              "      <th></th>\n",
              "      <th>Postcode</th>\n",
              "      <th>Borough</th>\n",
              "      <th>Neighborhood</th>\n",
              "    </tr>\n",
              "  </thead>\n",
              "  <tbody>\n",
              "    <tr>\n",
              "      <th>0</th>\n",
              "      <td>M1B</td>\n",
              "      <td>Scarborough</td>\n",
              "      <td>Rouge, Malvern</td>\n",
              "    </tr>\n",
              "    <tr>\n",
              "      <th>1</th>\n",
              "      <td>M1C</td>\n",
              "      <td>Scarborough</td>\n",
              "      <td>Highland Creek, Rouge Hill, Port Union</td>\n",
              "    </tr>\n",
              "    <tr>\n",
              "      <th>2</th>\n",
              "      <td>M1E</td>\n",
              "      <td>Scarborough</td>\n",
              "      <td>Guildwood, Morningside, West Hill</td>\n",
              "    </tr>\n",
              "    <tr>\n",
              "      <th>3</th>\n",
              "      <td>M1G</td>\n",
              "      <td>Scarborough</td>\n",
              "      <td>Woburn</td>\n",
              "    </tr>\n",
              "    <tr>\n",
              "      <th>4</th>\n",
              "      <td>M1H</td>\n",
              "      <td>Scarborough</td>\n",
              "      <td>Cedarbrae</td>\n",
              "    </tr>\n",
              "    <tr>\n",
              "      <th>5</th>\n",
              "      <td>M1J</td>\n",
              "      <td>Scarborough</td>\n",
              "      <td>Scarborough Village</td>\n",
              "    </tr>\n",
              "    <tr>\n",
              "      <th>6</th>\n",
              "      <td>M1K</td>\n",
              "      <td>Scarborough</td>\n",
              "      <td>East Birchmount Park, Ionview, Kennedy Park</td>\n",
              "    </tr>\n",
              "    <tr>\n",
              "      <th>7</th>\n",
              "      <td>M1L</td>\n",
              "      <td>Scarborough</td>\n",
              "      <td>Clairlea, Golden Mile, Oakridge</td>\n",
              "    </tr>\n",
              "    <tr>\n",
              "      <th>8</th>\n",
              "      <td>M1M</td>\n",
              "      <td>Scarborough</td>\n",
              "      <td>Cliffcrest, Cliffside, Scarborough Village West</td>\n",
              "    </tr>\n",
              "    <tr>\n",
              "      <th>9</th>\n",
              "      <td>M1N</td>\n",
              "      <td>Scarborough</td>\n",
              "      <td>Birch Cliff, Cliffside West</td>\n",
              "    </tr>\n",
              "  </tbody>\n",
              "</table>\n",
              "</div>"
            ],
            "text/plain": [
              "  Postcode      Borough                                     Neighborhood\n",
              "0      M1B  Scarborough                                   Rouge, Malvern\n",
              "1      M1C  Scarborough           Highland Creek, Rouge Hill, Port Union\n",
              "2      M1E  Scarborough                Guildwood, Morningside, West Hill\n",
              "3      M1G  Scarborough                                           Woburn\n",
              "4      M1H  Scarborough                                        Cedarbrae\n",
              "5      M1J  Scarborough                              Scarborough Village\n",
              "6      M1K  Scarborough      East Birchmount Park, Ionview, Kennedy Park\n",
              "7      M1L  Scarborough                  Clairlea, Golden Mile, Oakridge\n",
              "8      M1M  Scarborough  Cliffcrest, Cliffside, Scarborough Village West\n",
              "9      M1N  Scarborough                      Birch Cliff, Cliffside West"
            ]
          },
          "metadata": {
            "tags": []
          },
          "execution_count": 14
        }
      ]
    },
    {
      "cell_type": "code",
      "metadata": {
        "id": "W0DBrIkfOG-W",
        "colab_type": "code",
        "colab": {
          "base_uri": "https://localhost:8080/",
          "height": 34
        },
        "outputId": "c6e7ef4d-927b-4c0c-db61-dd214393ed56"
      },
      "source": [
        "print('The DataFrame shape is', grouped_df.shape)"
      ],
      "execution_count": 15,
      "outputs": [
        {
          "output_type": "stream",
          "text": [
            "The DataFrame shape is (103, 3)\n"
          ],
          "name": "stdout"
        }
      ]
    }
  ]
}